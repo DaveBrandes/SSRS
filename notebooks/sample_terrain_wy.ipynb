{
 "cells": [
  {
   "cell_type": "markdown",
   "metadata": {},
   "source": [
    "## Notebook demonstrating the importing of terrain layers from SRTM or 3DEP datasets for any given region in the contiguous US using ssrs package"
   ]
  },
  {
   "cell_type": "code",
   "execution_count": 1,
   "metadata": {},
   "outputs": [],
   "source": [
    "%load_ext autoreload\n",
    "%autoreload 2"
   ]
  },
  {
   "cell_type": "code",
   "execution_count": 2,
   "metadata": {},
   "outputs": [],
   "source": [
    "import os\n",
    "import sys\n",
    "import numpy as np\n",
    "import matplotlib.pyplot as plt"
   ]
  },
  {
   "cell_type": "code",
   "execution_count": 3,
   "metadata": {},
   "outputs": [
    {
     "ename": "ModuleNotFoundError",
     "evalue": "No module named 'richdem'",
     "output_type": "error",
     "traceback": [
      "\u001b[0;31m---------------------------------------------------------------------------\u001b[0m",
      "\u001b[0;31mModuleNotFoundError\u001b[0m                       Traceback (most recent call last)",
      "\u001b[0;32m/var/folders/bw/khd3vc3s1mjdb1xd42xfh215gk_1mg/T/ipykernel_38994/3600809810.py\u001b[0m in \u001b[0;36m<module>\u001b[0;34m\u001b[0m\n\u001b[0;32m----> 1\u001b[0;31m \u001b[0;32mfrom\u001b[0m \u001b[0mssrs\u001b[0m \u001b[0;32mimport\u001b[0m \u001b[0mTerrain\u001b[0m\u001b[0;34m,\u001b[0m \u001b[0mTurbinesUSWTB\u001b[0m\u001b[0;34m\u001b[0m\u001b[0;34m\u001b[0m\u001b[0m\n\u001b[0m\u001b[1;32m      2\u001b[0m \u001b[0;32mfrom\u001b[0m \u001b[0mssrs\u001b[0m\u001b[0;34m.\u001b[0m\u001b[0mraster\u001b[0m \u001b[0;32mimport\u001b[0m \u001b[0mtransform_bounds\u001b[0m\u001b[0;34m,\u001b[0m \u001b[0mtransform_coordinates\u001b[0m\u001b[0;34m,\u001b[0m \u001b[0mget_raster_in_projected_crs\u001b[0m\u001b[0;34m\u001b[0m\u001b[0;34m\u001b[0m\u001b[0m\n\u001b[1;32m      3\u001b[0m \u001b[0;32mfrom\u001b[0m \u001b[0mssrs\u001b[0m\u001b[0;34m.\u001b[0m\u001b[0mutils\u001b[0m \u001b[0;32mimport\u001b[0m \u001b[0mget_extent_from_bounds\u001b[0m\u001b[0;34m,\u001b[0m \u001b[0mcreate_gis_axis\u001b[0m\u001b[0;34m\u001b[0m\u001b[0;34m\u001b[0m\u001b[0m\n",
      "\u001b[0;32m~/opt/anaconda3/envs/testme/lib/python3.8/site-packages/ssrs/__init__.py\u001b[0m in \u001b[0;36m<module>\u001b[0;34m\u001b[0m\n\u001b[1;32m      1\u001b[0m \u001b[0;34m\"\"\" SSRS package \"\"\"\u001b[0m\u001b[0;34m\u001b[0m\u001b[0;34m\u001b[0m\u001b[0m\n\u001b[1;32m      2\u001b[0m \u001b[0;34m\u001b[0m\u001b[0m\n\u001b[0;32m----> 3\u001b[0;31m \u001b[0;32mfrom\u001b[0m \u001b[0;34m.\u001b[0m\u001b[0msimulator\u001b[0m \u001b[0;32mimport\u001b[0m \u001b[0mSimulator\u001b[0m\u001b[0;34m\u001b[0m\u001b[0;34m\u001b[0m\u001b[0m\n\u001b[0m\u001b[1;32m      4\u001b[0m \u001b[0;32mfrom\u001b[0m \u001b[0;34m.\u001b[0m\u001b[0mterrain\u001b[0m \u001b[0;32mimport\u001b[0m \u001b[0;34m*\u001b[0m\u001b[0;34m\u001b[0m\u001b[0;34m\u001b[0m\u001b[0m\n\u001b[1;32m      5\u001b[0m \u001b[0;32mfrom\u001b[0m \u001b[0;34m.\u001b[0m\u001b[0mwtk\u001b[0m \u001b[0;32mimport\u001b[0m \u001b[0;34m*\u001b[0m\u001b[0;34m\u001b[0m\u001b[0;34m\u001b[0m\u001b[0m\n",
      "\u001b[0;32m~/opt/anaconda3/envs/testme/lib/python3.8/site-packages/ssrs/simulator.py\u001b[0m in \u001b[0;36m<module>\u001b[0;34m\u001b[0m\n\u001b[1;32m     18\u001b[0m \u001b[0;32mfrom\u001b[0m \u001b[0;34m.\u001b[0m\u001b[0mturbines\u001b[0m \u001b[0;32mimport\u001b[0m \u001b[0mTurbinesUSWTB\u001b[0m\u001b[0;34m\u001b[0m\u001b[0;34m\u001b[0m\u001b[0m\n\u001b[1;32m     19\u001b[0m \u001b[0;32mfrom\u001b[0m \u001b[0;34m.\u001b[0m\u001b[0mconfig\u001b[0m \u001b[0;32mimport\u001b[0m \u001b[0mConfig\u001b[0m\u001b[0;34m\u001b[0m\u001b[0;34m\u001b[0m\u001b[0m\n\u001b[0;32m---> 20\u001b[0;31m \u001b[0;32mfrom\u001b[0m \u001b[0;34m.\u001b[0m\u001b[0mlayers\u001b[0m \u001b[0;32mimport\u001b[0m \u001b[0mcompute_orographic_updraft\u001b[0m\u001b[0;34m\u001b[0m\u001b[0;34m\u001b[0m\u001b[0m\n\u001b[0m\u001b[1;32m     21\u001b[0m from .raster import (get_raster_in_projected_crs,\n\u001b[1;32m     22\u001b[0m                      transform_bounds, transform_coordinates)\n",
      "\u001b[0;32m~/opt/anaconda3/envs/testme/lib/python3.8/site-packages/ssrs/layers.py\u001b[0m in \u001b[0;36m<module>\u001b[0;34m\u001b[0m\n\u001b[1;32m      2\u001b[0m \u001b[0;34m\u001b[0m\u001b[0m\n\u001b[1;32m      3\u001b[0m \u001b[0;32mimport\u001b[0m \u001b[0mnumpy\u001b[0m \u001b[0;32mas\u001b[0m \u001b[0mnp\u001b[0m\u001b[0;34m\u001b[0m\u001b[0;34m\u001b[0m\u001b[0m\n\u001b[0;32m----> 4\u001b[0;31m \u001b[0;32mimport\u001b[0m \u001b[0mrichdem\u001b[0m \u001b[0;32mas\u001b[0m \u001b[0mrd\u001b[0m\u001b[0;34m\u001b[0m\u001b[0;34m\u001b[0m\u001b[0m\n\u001b[0m\u001b[1;32m      5\u001b[0m \u001b[0;34m\u001b[0m\u001b[0m\n\u001b[1;32m      6\u001b[0m \u001b[0;34m\u001b[0m\u001b[0m\n",
      "\u001b[0;31mModuleNotFoundError\u001b[0m: No module named 'richdem'"
     ]
    }
   ],
   "source": [
    "from ssrs import Terrain, TurbinesUSWTB\n",
    "from ssrs.raster import transform_bounds, transform_coordinates, get_raster_in_projected_crs\n",
    "from ssrs.utils import get_extent_from_bounds, create_gis_axis"
   ]
  },
  {
   "cell_type": "code",
   "execution_count": null,
   "metadata": {},
   "outputs": [],
   "source": [
    "# directory where output is saved\n",
    "output_dir = os.path.join(os.path.abspath(os.path.curdir), 'output/')"
   ]
  },
  {
   "cell_type": "code",
   "execution_count": null,
   "metadata": {},
   "outputs": [],
   "source": [
    "# Parameters for determining the region of interest\n",
    "proj_crs = 'ESRI:102008' # projected crs\n",
    "lonlat_crs = 'EPSG:4326' # geo crs\n",
    "southwest_lonlat = (-106.14, 42.77) # southwestern point\n",
    "region_width_km = (60., 50.) # region size in km\n",
    "resolution = 100. # resolution in meters"
   ]
  },
  {
   "cell_type": "code",
   "execution_count": null,
   "metadata": {},
   "outputs": [],
   "source": [
    "# figure out the grid size of the target region\n",
    "xsize = int(round((region_width_km[0] * 1000. / resolution)))\n",
    "ysize = int(round((region_width_km[1] * 1000. / resolution)))\n",
    "gridsize = (ysize, xsize)"
   ]
  },
  {
   "cell_type": "code",
   "execution_count": null,
   "metadata": {},
   "outputs": [],
   "source": [
    "# get the bounds of the revion in both lonlat and projected crs\n",
    "proj_west, proj_south = transform_coordinates(lonlat_crs, proj_crs, southwest_lonlat[0], southwest_lonlat[1])\n",
    "proj_east = proj_west[0] + xsize * resolution\n",
    "proj_north = proj_south[0] + ysize * resolution\n",
    "bounds = (proj_west[0], proj_south[0], proj_east, proj_north)\n",
    "extent = get_extent_from_bounds(bounds)\n",
    "lonlat_bounds = transform_bounds(bounds, proj_crs, lonlat_crs)"
   ]
  },
  {
   "cell_type": "code",
   "execution_count": null,
   "metadata": {},
   "outputs": [],
   "source": [
    "#Valid terrain layers\n",
    "Terrain.valid_layers"
   ]
  },
  {
   "cell_type": "code",
   "execution_count": null,
   "metadata": {},
   "outputs": [],
   "source": [
    "# downloading terrain layers\n",
    "terrain_layers = {\n",
    "    'Elevation': 'DEM',\n",
    "    'Slope': 'Slope Degrees',\n",
    "    'Aspect': 'Aspect Degrees'\n",
    "}\n",
    "region = Terrain(lonlat_bounds, output_dir)\n",
    "region.download(terrain_layers.values())"
   ]
  },
  {
   "cell_type": "code",
   "execution_count": null,
   "metadata": {},
   "outputs": [],
   "source": [
    "def get_terrain_layer(lyr:str):\n",
    "    fpath = region.get_raster_fpath(lyr)\n",
    "    return get_raster_in_projected_crs(fpath, bounds, gridsize, resolution, proj_crs)"
   ]
  },
  {
   "cell_type": "code",
   "execution_count": null,
   "metadata": {},
   "outputs": [],
   "source": [
    "# get all the wind turbines in this region\n",
    "turbines = TurbinesUSWTB(bounds, proj_crs, min_hubheight=60.)\n",
    "turb_xlocs, turb_ylocs = turbines.get_locations()\n",
    "turbines.print_details()"
   ]
  },
  {
   "cell_type": "code",
   "execution_count": null,
   "metadata": {},
   "outputs": [],
   "source": [
    "# plot all the layers\n",
    "for key, val in terrain_layers.items():\n",
    "    lyr_data = get_terrain_layer(val)\n",
    "    fig, ax = plt.subplots(figsize=(6,5))\n",
    "    cm = ax.imshow(lyr_data, cmap='terrain', extent=extent, origin='lower')\n",
    "    create_gis_axis(fig, ax, cm)\n",
    "    ax.plot(turb_xlocs, turb_ylocs, '1k', alpha=0.75, markersize=3.)\n",
    "    ax.set_title(key)"
   ]
  },
  {
   "cell_type": "code",
   "execution_count": null,
   "metadata": {},
   "outputs": [],
   "source": []
  }
 ],
 "metadata": {
  "kernelspec": {
   "display_name": "testme",
   "language": "python",
   "name": "testme"
  },
  "language_info": {
   "codemirror_mode": {
    "name": "ipython",
    "version": 3
   },
   "file_extension": ".py",
   "mimetype": "text/x-python",
   "name": "python",
   "nbconvert_exporter": "python",
   "pygments_lexer": "ipython3",
   "version": "3.8.12"
  }
 },
 "nbformat": 4,
 "nbformat_minor": 4
}
