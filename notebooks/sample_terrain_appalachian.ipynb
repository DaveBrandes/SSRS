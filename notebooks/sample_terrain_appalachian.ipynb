{
 "cells": [
  {
   "cell_type": "markdown",
   "metadata": {},
   "source": [
    "## Notebook demonstrating the importing of terrain layers from SRTM or 3DEP datasets for any given region in the contiguous US using ssrs.Terrain module"
   ]
  },
  {
   "cell_type": "code",
   "execution_count": 1,
   "metadata": {},
   "outputs": [],
   "source": [
    "%load_ext autoreload\n",
    "%autoreload 2"
   ]
  },
  {
   "cell_type": "code",
   "execution_count": 2,
   "metadata": {},
   "outputs": [],
   "source": [
    "import os\n",
    "import sys\n",
    "import numpy as np\n",
    "import matplotlib.pyplot as plt"
   ]
  },
  {
   "cell_type": "code",
   "execution_count": 3,
   "metadata": {},
   "outputs": [],
   "source": [
    "from ssrs import Terrain, TurbinesUSWTB\n",
    "from ssrs.raster import transform_bounds, transform_coordinates, get_raster_in_projected_crs\n",
    "from ssrs.utils import get_extent_from_bounds, create_gis_axis"
   ]
  },
  {
   "cell_type": "code",
   "execution_count": 4,
   "metadata": {},
   "outputs": [],
   "source": [
    "# directory where output is saved\n",
    "output_dir = os.path.join(os.path.abspath(os.path.curdir), 'output/')"
   ]
  },
  {
   "cell_type": "code",
   "execution_count": 5,
   "metadata": {},
   "outputs": [],
   "source": [
    "# Parameters for determining the region of interest\n",
    "proj_crs = 'ESRI:102008' # projected crs\n",
    "lonlat_crs = 'EPSG:4326' # geo crs\n",
    "southwest_lonlat = (-79.7, 39.0) # southwestern point\n",
    "region_width_km = (70., 60.) # region size in km\n",
    "resolution = 100. # resolution in meters"
   ]
  },
  {
   "cell_type": "code",
   "execution_count": 6,
   "metadata": {},
   "outputs": [],
   "source": [
    "# figure out the grid size of the target region\n",
    "xsize = int(round((region_width_km[0] * 1000. / resolution)))\n",
    "ysize = int(round((region_width_km[1] * 1000. / resolution)))\n",
    "gridsize = (ysize, xsize)"
   ]
  },
  {
   "cell_type": "code",
   "execution_count": 7,
   "metadata": {},
   "outputs": [],
   "source": [
    "# get the bounds of the revion in both lonlat and projected crs\n",
    "proj_west, proj_south = transform_coordinates(lonlat_crs, proj_crs, southwest_lonlat[0], southwest_lonlat[1])\n",
    "proj_east = proj_west[0] + xsize * resolution\n",
    "proj_north = proj_south[0] + ysize * resolution\n",
    "bounds = (proj_west[0], proj_south[0], proj_east, proj_north)\n",
    "extent = get_extent_from_bounds(bounds)\n",
    "lonlat_bounds = transform_bounds(bounds, proj_crs, lonlat_crs)"
   ]
  },
  {
   "cell_type": "code",
   "execution_count": 8,
   "metadata": {},
   "outputs": [
    {
     "data": {
      "text/plain": [
       "('DEM',\n",
       " 'Hillshade Gray',\n",
       " 'Aspect Degrees',\n",
       " 'Aspect Map',\n",
       " 'GreyHillshade_elevationFill',\n",
       " 'Hillshade Multidirectional',\n",
       " 'Slope Map',\n",
       " 'Slope Degrees',\n",
       " 'Hillshade Elevation Tinted',\n",
       " 'Height Ellipsoidal',\n",
       " 'Contour 25',\n",
       " 'Contour Smoothed 25',\n",
       " 'SRTM1',\n",
       " 'SRTM3')"
      ]
     },
     "execution_count": 8,
     "metadata": {},
     "output_type": "execute_result"
    }
   ],
   "source": [
    "#Valid terrain layers\n",
    "Terrain.valid_layers"
   ]
  },
  {
   "cell_type": "code",
   "execution_count": 11,
   "metadata": {},
   "outputs": [
    {
     "name": "stdout",
     "output_type": "stream",
     "text": [
      "Terrain: Bounds set to [-79.7, 38.9, -78.72, 39.5]\n",
      "Terrain: Downloading DEM data from 3DEP..\n"
     ]
    },
    {
     "ename": "Exception",
     "evalue": "WMS: Connection issues, try again!\n",
     "output_type": "error",
     "traceback": [
      "\u001b[0;31m---------------------------------------------------------------------------\u001b[0m",
      "\u001b[0;31mException\u001b[0m                                 Traceback (most recent call last)",
      "\u001b[0;32m/var/folders/bw/khd3vc3s1mjdb1xd42xfh215gk_1mg/T/ipykernel_37602/2540920667.py\u001b[0m in \u001b[0;36m<module>\u001b[0;34m\u001b[0m\n\u001b[1;32m      6\u001b[0m }\n\u001b[1;32m      7\u001b[0m \u001b[0mregion\u001b[0m \u001b[0;34m=\u001b[0m \u001b[0mTerrain\u001b[0m\u001b[0;34m(\u001b[0m\u001b[0mlonlat_bounds\u001b[0m\u001b[0;34m,\u001b[0m \u001b[0moutput_dir\u001b[0m\u001b[0;34m)\u001b[0m\u001b[0;34m\u001b[0m\u001b[0;34m\u001b[0m\u001b[0m\n\u001b[0;32m----> 8\u001b[0;31m \u001b[0mregion\u001b[0m\u001b[0;34m.\u001b[0m\u001b[0mdownload\u001b[0m\u001b[0;34m(\u001b[0m\u001b[0mterrain_layers\u001b[0m\u001b[0;34m.\u001b[0m\u001b[0mvalues\u001b[0m\u001b[0;34m(\u001b[0m\u001b[0;34m)\u001b[0m\u001b[0;34m)\u001b[0m\u001b[0;34m\u001b[0m\u001b[0;34m\u001b[0m\u001b[0m\n\u001b[0m",
      "\u001b[0;32m~/opt/anaconda3/envs/ssrs_env/lib/python3.9/site-packages/ssrs/terrain/terrain.py\u001b[0m in \u001b[0;36mdownload\u001b[0;34m(self, layers, pad)\u001b[0m\n\u001b[1;32m     59\u001b[0m                 \u001b[0;32mif\u001b[0m \u001b[0mlayer\u001b[0m \u001b[0;32min\u001b[0m \u001b[0mThreeDEP\u001b[0m\u001b[0;34m.\u001b[0m\u001b[0mvalid_layers\u001b[0m\u001b[0;34m:\u001b[0m\u001b[0;34m\u001b[0m\u001b[0;34m\u001b[0m\u001b[0m\n\u001b[1;32m     60\u001b[0m                     \u001b[0mprint\u001b[0m\u001b[0;34m(\u001b[0m\u001b[0;34mf'Terrain: Downloading {layer} data from 3DEP..'\u001b[0m\u001b[0;34m)\u001b[0m\u001b[0;34m\u001b[0m\u001b[0;34m\u001b[0m\u001b[0m\n\u001b[0;32m---> 61\u001b[0;31m                     \u001b[0msrc_object\u001b[0m \u001b[0;34m=\u001b[0m \u001b[0mThreeDEP\u001b[0m\u001b[0;34m(\u001b[0m\u001b[0mlayer\u001b[0m\u001b[0;34m,\u001b[0m \u001b[0mpad_bnds\u001b[0m\u001b[0;34m,\u001b[0m \u001b[0mfpath\u001b[0m\u001b[0;34m)\u001b[0m\u001b[0;34m\u001b[0m\u001b[0;34m\u001b[0m\u001b[0m\n\u001b[0m\u001b[1;32m     62\u001b[0m                 \u001b[0;32melif\u001b[0m \u001b[0mlayer\u001b[0m \u001b[0;32min\u001b[0m \u001b[0mSRTM\u001b[0m\u001b[0;34m.\u001b[0m\u001b[0mvalid_layers\u001b[0m\u001b[0;34m:\u001b[0m\u001b[0;34m\u001b[0m\u001b[0;34m\u001b[0m\u001b[0m\n\u001b[1;32m     63\u001b[0m                     \u001b[0mprint\u001b[0m\u001b[0;34m(\u001b[0m\u001b[0;34mf'Terrain: Downloading {layer} data from SRTM..'\u001b[0m\u001b[0;34m)\u001b[0m\u001b[0;34m\u001b[0m\u001b[0;34m\u001b[0m\u001b[0m\n",
      "\u001b[0;32m~/opt/anaconda3/envs/ssrs_env/lib/python3.9/site-packages/ssrs/terrain/threedep.py\u001b[0m in \u001b[0;36m__init__\u001b[0;34m(self, layer, bnds, fpath, res)\u001b[0m\n\u001b[1;32m     57\u001b[0m         \u001b[0mself\u001b[0m\u001b[0;34m.\u001b[0m\u001b[0mres\u001b[0m \u001b[0;34m=\u001b[0m \u001b[0mres\u001b[0m\u001b[0;34m\u001b[0m\u001b[0;34m\u001b[0m\u001b[0m\n\u001b[1;32m     58\u001b[0m         \u001b[0mself\u001b[0m\u001b[0;34m.\u001b[0m\u001b[0mfpath\u001b[0m \u001b[0;34m=\u001b[0m \u001b[0mfpath\u001b[0m\u001b[0;34m\u001b[0m\u001b[0;34m\u001b[0m\u001b[0m\n\u001b[0;32m---> 59\u001b[0;31m         \u001b[0msuper\u001b[0m\u001b[0;34m(\u001b[0m\u001b[0;34m)\u001b[0m\u001b[0;34m.\u001b[0m\u001b[0m__init__\u001b[0m\u001b[0;34m(\u001b[0m\u001b[0mbnds\u001b[0m\u001b[0;34m,\u001b[0m \u001b[0mself\u001b[0m\u001b[0;34m.\u001b[0m\u001b[0mcrs_str\u001b[0m\u001b[0;34m,\u001b[0m \u001b[0mself\u001b[0m\u001b[0;34m.\u001b[0m\u001b[0mwms_url\u001b[0m\u001b[0;34m,\u001b[0m \u001b[0;36m2000\u001b[0m\u001b[0;34m)\u001b[0m\u001b[0;34m\u001b[0m\u001b[0;34m\u001b[0m\u001b[0m\n\u001b[0m\u001b[1;32m     60\u001b[0m \u001b[0;34m\u001b[0m\u001b[0m\n\u001b[1;32m     61\u001b[0m     \u001b[0;32mdef\u001b[0m \u001b[0mdownload\u001b[0m\u001b[0;34m(\u001b[0m\u001b[0mself\u001b[0m\u001b[0;34m)\u001b[0m\u001b[0;34m:\u001b[0m\u001b[0;34m\u001b[0m\u001b[0;34m\u001b[0m\u001b[0m\n",
      "\u001b[0;32m~/opt/anaconda3/envs/ssrs_env/lib/python3.9/site-packages/ssrs/terrain/wms.py\u001b[0m in \u001b[0;36m__init__\u001b[0;34m(self, bnds, crs_str, url, max_gridsize)\u001b[0m\n\u001b[1;32m     46\u001b[0m             \u001b[0mself\u001b[0m\u001b[0;34m.\u001b[0m\u001b[0mwms\u001b[0m \u001b[0;34m=\u001b[0m \u001b[0mWebMapService\u001b[0m\u001b[0;34m(\u001b[0m\u001b[0murl\u001b[0m\u001b[0;34m,\u001b[0m \u001b[0mversion\u001b[0m\u001b[0;34m=\u001b[0m\u001b[0mself\u001b[0m\u001b[0;34m.\u001b[0m\u001b[0mversion\u001b[0m\u001b[0;34m)\u001b[0m\u001b[0;34m\u001b[0m\u001b[0;34m\u001b[0m\u001b[0m\n\u001b[1;32m     47\u001b[0m         \u001b[0;32mexcept\u001b[0m \u001b[0mException\u001b[0m \u001b[0;32mas\u001b[0m \u001b[0m_\u001b[0m\u001b[0;34m:\u001b[0m\u001b[0;34m\u001b[0m\u001b[0;34m\u001b[0m\u001b[0m\n\u001b[0;32m---> 48\u001b[0;31m             \u001b[0;32mraise\u001b[0m \u001b[0mException\u001b[0m\u001b[0;34m(\u001b[0m\u001b[0;34m'WMS: Connection issues, try again!\\n'\u001b[0m\u001b[0;34m)\u001b[0m \u001b[0;32mfrom\u001b[0m \u001b[0;32mNone\u001b[0m\u001b[0;34m\u001b[0m\u001b[0;34m\u001b[0m\u001b[0m\n\u001b[0m\u001b[1;32m     49\u001b[0m         \u001b[0mself\u001b[0m\u001b[0;34m.\u001b[0m\u001b[0mlayers\u001b[0m \u001b[0;34m=\u001b[0m \u001b[0mlist\u001b[0m\u001b[0;34m(\u001b[0m\u001b[0mself\u001b[0m\u001b[0;34m.\u001b[0m\u001b[0mwms\u001b[0m\u001b[0;34m.\u001b[0m\u001b[0mcontents\u001b[0m\u001b[0;34m)\u001b[0m\u001b[0;34m\u001b[0m\u001b[0;34m\u001b[0m\u001b[0m\n\u001b[1;32m     50\u001b[0m         \u001b[0;31m#self.operations = [op.name for op in self.wms.operations]\u001b[0m\u001b[0;34m\u001b[0m\u001b[0;34m\u001b[0m\u001b[0m\n",
      "\u001b[0;31mException\u001b[0m: WMS: Connection issues, try again!\n"
     ]
    }
   ],
   "source": [
    "# downloading terrain layers\n",
    "terrain_layers = {\n",
    "    'Elevation': 'DEM',\n",
    "    'Slope': 'Slope Degrees',\n",
    "    'Aspect': 'Aspect Degrees'\n",
    "}\n",
    "region = Terrain(lonlat_bounds, output_dir)\n",
    "region.download(terrain_layers.values())"
   ]
  },
  {
   "cell_type": "code",
   "execution_count": null,
   "metadata": {},
   "outputs": [],
   "source": [
    "def get_terrain_layer(lyr:str):\n",
    "    fpath = region.get_raster_fpath(lyr)\n",
    "    return get_raster_in_projected_crs(fpath, bounds, gridsize, resolution, proj_crs)"
   ]
  },
  {
   "cell_type": "code",
   "execution_count": null,
   "metadata": {},
   "outputs": [],
   "source": [
    "# get all the wind turbines in this region\n",
    "turbines = TurbinesUSWTB(bounds, proj_crs, min_hubheight=60.)\n",
    "turb_xlocs, turb_ylocs = turbines.get_locations()\n",
    "turbines.print_details()"
   ]
  },
  {
   "cell_type": "code",
   "execution_count": null,
   "metadata": {},
   "outputs": [],
   "source": [
    "# plot all the layers\n",
    "for key, val in terrain_layers.items():\n",
    "    lyr_data = get_terrain_layer(val)\n",
    "    fig, ax = plt.subplots(figsize=(6,5))\n",
    "    cm = ax.imshow(lyr_data, cmap='terrain', extent=extent, origin='lower')\n",
    "    create_gis_axis(fig, ax, cm)\n",
    "    ax.plot(turb_xlocs, turb_ylocs, '1k', alpha=0.75, markersize=3.)\n",
    "    ax.set_title(key)"
   ]
  }
 ],
 "metadata": {
  "kernelspec": {
   "display_name": "ssrs_env",
   "language": "python",
   "name": "ssrs_env"
  },
  "language_info": {
   "codemirror_mode": {
    "name": "ipython",
    "version": 3
   },
   "file_extension": ".py",
   "mimetype": "text/x-python",
   "name": "python",
   "nbconvert_exporter": "python",
   "pygments_lexer": "ipython3",
   "version": "3.9.9"
  }
 },
 "nbformat": 4,
 "nbformat_minor": 4
}
