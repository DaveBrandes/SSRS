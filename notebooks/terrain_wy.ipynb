{
 "cells": [
  {
   "cell_type": "markdown",
   "metadata": {},
   "source": [
    "## Importing terrain layers from SRTM or 3DEP datasets using ssrs.Terrain module\n",
    "### Region in Wyoming"
   ]
  },
  {
   "cell_type": "code",
   "execution_count": 1,
   "metadata": {},
   "outputs": [],
   "source": [
    "%load_ext autoreload\n",
    "%autoreload 2"
   ]
  },
  {
   "cell_type": "code",
   "execution_count": 2,
   "metadata": {},
   "outputs": [],
   "source": [
    "import os\n",
    "import matplotlib.pyplot as plt"
   ]
  },
  {
   "cell_type": "code",
   "execution_count": 3,
   "metadata": {},
   "outputs": [],
   "source": [
    "from ssrs import Terrain, TurbinesUSWTB\n",
    "from ssrs.raster import transform_bounds, transform_coordinates, get_raster_in_projected_crs\n",
    "from ssrs.utils import get_extent_from_bounds, create_gis_axis"
   ]
  },
  {
   "cell_type": "code",
   "execution_count": 4,
   "metadata": {},
   "outputs": [],
   "source": [
    "# directory where output is saved\n",
    "output_dir = os.path.join(os.path.abspath(os.path.curdir), 'output/')"
   ]
  },
  {
   "cell_type": "code",
   "execution_count": 5,
   "metadata": {},
   "outputs": [],
   "source": [
    "# Parameters for determining the region of interest\n",
    "proj_crs = 'ESRI:102008' # projected crs\n",
    "lonlat_crs = 'EPSG:4326' # geo crs\n",
    "southwest_lonlat = (-106.14, 42.77) # southwestern point\n",
    "region_width_km = (60., 50.) # region size in km\n",
    "resolution = 100. # resolution in meters"
   ]
  },
  {
   "cell_type": "code",
   "execution_count": 6,
   "metadata": {},
   "outputs": [],
   "source": [
    "# figure out the grid size of the target region\n",
    "xsize = int(round((region_width_km[0] * 1000. / resolution)))\n",
    "ysize = int(round((region_width_km[1] * 1000. / resolution)))\n",
    "gridsize = (ysize, xsize)"
   ]
  },
  {
   "cell_type": "code",
   "execution_count": 7,
   "metadata": {},
   "outputs": [],
   "source": [
    "# get the bounds of the revion in both lonlat and projected crs\n",
    "proj_west, proj_south = transform_coordinates(lonlat_crs, proj_crs, southwest_lonlat[0], southwest_lonlat[1])\n",
    "proj_east = proj_west[0] + xsize * resolution\n",
    "proj_north = proj_south[0] + ysize * resolution\n",
    "bounds = (proj_west[0], proj_south[0], proj_east, proj_north)\n",
    "extent = get_extent_from_bounds(bounds)\n",
    "lonlat_bounds = transform_bounds(bounds, proj_crs, lonlat_crs)"
   ]
  },
  {
   "cell_type": "code",
   "execution_count": 8,
   "metadata": {},
   "outputs": [
    {
     "data": {
      "text/plain": [
       "('DEM',\n",
       " 'Hillshade Gray',\n",
       " 'Aspect Degrees',\n",
       " 'Aspect Map',\n",
       " 'GreyHillshade_elevationFill',\n",
       " 'Hillshade Multidirectional',\n",
       " 'Slope Map',\n",
       " 'Slope Degrees',\n",
       " 'Hillshade Elevation Tinted',\n",
       " 'Height Ellipsoidal',\n",
       " 'Contour 25',\n",
       " 'Contour Smoothed 25',\n",
       " 'SRTM1',\n",
       " 'SRTM3')"
      ]
     },
     "execution_count": 8,
     "metadata": {},
     "output_type": "execute_result"
    }
   ],
   "source": [
    "#Valid terrain layers\n",
    "Terrain.valid_layers"
   ]
  },
  {
   "cell_type": "code",
   "execution_count": null,
   "metadata": {},
   "outputs": [
    {
     "name": "stdout",
     "output_type": "stream",
     "text": [
      "Terrain: Bounds set to [-106.21, 42.77, -105.36, 43.24]\n",
      "Terrain: Downloading DEM data from 3DEP..\n",
      "WMS: Downloading data for 15 tiles..\n",
      "Terrain: Downloading Slope Degrees data from 3DEP..\n",
      "WMS: Downloading data for 15 tiles..\n"
     ]
    }
   ],
   "source": [
    "# downloading terrain layers\n",
    "terrain_layers = {\n",
    "    'Elevation': 'DEM',\n",
    "    'Slope': 'Slope Degrees',\n",
    "    'Aspect': 'Aspect Degrees'\n",
    "}\n",
    "region = Terrain(lonlat_bounds, output_dir)\n",
    "region.download(terrain_layers.values())"
   ]
  },
  {
   "cell_type": "code",
   "execution_count": null,
   "metadata": {},
   "outputs": [],
   "source": [
    "def get_terrain_layer(lyr:str):\n",
    "    fpath = region.get_raster_fpath(lyr)\n",
    "    return get_raster_in_projected_crs(fpath, bounds, gridsize, resolution, proj_crs)"
   ]
  },
  {
   "cell_type": "code",
   "execution_count": null,
   "metadata": {},
   "outputs": [],
   "source": [
    "# get all the wind turbines in this region\n",
    "turbines = TurbinesUSWTB(bounds, proj_crs, min_hubheight=60.)\n",
    "turb_xlocs, turb_ylocs = turbines.get_locations()\n",
    "turbines.print_details()"
   ]
  },
  {
   "cell_type": "code",
   "execution_count": null,
   "metadata": {},
   "outputs": [],
   "source": [
    "# plot all the layers\n",
    "for key, val in terrain_layers.items():\n",
    "    lyr_data = get_terrain_layer(val)\n",
    "    fig, ax = plt.subplots(figsize=(6,5))\n",
    "    cm = ax.imshow(lyr_data, cmap='terrain', extent=extent, origin='lower')\n",
    "    create_gis_axis(fig, ax, cm)\n",
    "    ax.plot(turb_xlocs, turb_ylocs, '1k', alpha=0.75, markersize=3.)\n",
    "    ax.set_title(key)"
   ]
  },
  {
   "cell_type": "code",
   "execution_count": null,
   "metadata": {},
   "outputs": [],
   "source": []
  }
 ],
 "metadata": {
  "kernelspec": {
   "display_name": "test_this",
   "language": "python",
   "name": "test_this"
  },
  "language_info": {
   "codemirror_mode": {
    "name": "ipython",
    "version": 3
   },
   "file_extension": ".py",
   "mimetype": "text/x-python",
   "name": "python",
   "nbconvert_exporter": "python",
   "pygments_lexer": "ipython3",
   "version": "3.8.12"
  }
 },
 "nbformat": 4,
 "nbformat_minor": 4
}
