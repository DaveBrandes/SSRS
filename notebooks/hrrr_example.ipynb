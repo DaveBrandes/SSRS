{
 "cells": [
  {
   "cell_type": "code",
   "execution_count": 1,
   "id": "b720bffd-263b-433c-8fdf-84b38fb9a156",
   "metadata": {},
   "outputs": [
    {
     "name": "stderr",
     "output_type": "stream",
     "text": [
      "/Users/akey/anaconda3/envs/ssrs_env/lib/python3.10/site-packages/herbie/archive.py:71: UserWarning: herbie xarray accessors could not be imported.You are probably missing the Carpenter_Workshop.If you want to use these functions, try`pip install git+https://github.com/blaylockbk/Carpenter_Workshop.git`\n",
      "  warnings.warn(\n"
     ]
    }
   ],
   "source": [
    "from ssrs import Navigator"
   ]
  },
  {
   "cell_type": "code",
   "execution_count": null,
   "id": "f99278d3-4b91-425b-b6f5-b6749162f4d4",
   "metadata": {},
   "outputs": [],
   "source": [
    "nav = Navigator('2021-02-17 12:00')"
   ]
  },
  {
   "cell_type": "code",
   "execution_count": null,
   "id": "f3421146-2e65-4a21-8c0f-8c78c31b5954",
   "metadata": {},
   "outputs": [],
   "source": [
    "convective_velocity_variables = nav.convective_velocity_variables()"
   ]
  },
  {
   "cell_type": "code",
   "execution_count": null,
   "id": "9d45332f-6163-4b3b-8c26-e79fc79eb167",
   "metadata": {},
   "outputs": [],
   "source": [
    "convective_velocity_variables"
   ]
  },
  {
   "cell_type": "code",
   "execution_count": null,
   "id": "6d30d5f4-d070-4b21-8c8f-be72bc299487",
   "metadata": {},
   "outputs": [],
   "source": []
  }
 ],
 "metadata": {
  "kernelspec": {
   "display_name": "Python 3 (ipykernel)",
   "language": "python",
   "name": "python3"
  },
  "language_info": {
   "codemirror_mode": {
    "name": "ipython",
    "version": 3
   },
   "file_extension": ".py",
   "mimetype": "text/x-python",
   "name": "python",
   "nbconvert_exporter": "python",
   "pygments_lexer": "ipython3",
   "version": "3.10.2"
  }
 },
 "nbformat": 4,
 "nbformat_minor": 5
}
