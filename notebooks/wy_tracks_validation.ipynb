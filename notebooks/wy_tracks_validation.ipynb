{
 "cells": [
  {
   "cell_type": "code",
   "execution_count": null,
   "id": "080f426e",
   "metadata": {},
   "outputs": [],
   "source": [
    "%load_ext autoreload\n",
    "%autoreload 2"
   ]
  },
  {
   "cell_type": "code",
   "execution_count": null,
   "id": "b12340f4",
   "metadata": {
    "tags": []
   },
   "outputs": [],
   "source": [
    "import pandas as pd\n",
    "import xarray as xr\n",
    "import numpy as np\n",
    "import os\n",
    "from datetime import date, time\n",
    "from matplotlib import pyplot as plt\n",
    "from dataclasses import replace\n",
    "from ssrs import Simulator, Config"
   ]
  },
  {
   "cell_type": "markdown",
   "id": "06344bc1",
   "metadata": {
    "tags": []
   },
   "source": [
    "# Comparison of tracks at different locations in WY\n",
    "\n",
    "Setting W winds and 8 m/s throghout. Using the pparoach of 8 squares on each side, migrating to the other direction.\n",
    "\n",
    "Jul 5, 2022\n"
   ]
  },
  {
   "cell_type": "code",
   "execution_count": null,
   "id": "2f31b06d-1f84-41ed-8429-aea27ec864a9",
   "metadata": {},
   "outputs": [],
   "source": [
    "wspd = 8\n",
    "wdir = 270"
   ]
  },
  {
   "cell_type": "code",
   "execution_count": null,
   "id": "7f6c98ba-cb8a-4a08-92cc-b33ed39d1213",
   "metadata": {},
   "outputs": [],
   "source": [
    "# 25x25 km boxes selected by Dave; sent on Jun 30\n",
    "box1 = ( -106.60, 41.90 )\n",
    "box2 = ( -106.25, 42.23 )\n",
    "box3 = ( -106.15, 41.88 )\n",
    "box4 = ( -106.14, 42.91 )"
   ]
  },
  {
   "cell_type": "code",
   "execution_count": null,
   "id": "aae03668",
   "metadata": {},
   "outputs": [],
   "source": [
    "default_config = Config()\n",
    "\n",
    "# Default WY parameters\n",
    "default_config =replace(\n",
    "    default_config, \n",
    "    fig_height=8.,\n",
    "    sim_seed = -1,\n",
    "    #southwest_lonlat = (-121.72, 37.53),\n",
    "    region_width_km = (25.0, 25.0),\n",
    "    sim_mode = 'uniform',\n",
    "    uniform_windspeed = wspd,\n",
    "    uniform_winddirn = wdir,\n",
    "    uniform_windspeed_h = wspd,\n",
    "    uniform_winddirn_h = wdir,\n",
    "    href = 80.0,\n",
    "    uniform_windspeed_href = wspd,\n",
    "    uniform_winddirn_href = wdir,\n",
    "    turbine_minimum_hubheight = 70.,\n",
    "    track_direction = 10, # random value. It will be replaced\n",
    "    track_count = 500,\n",
    "    track_start_region = (2, 23, 0, 1), # xmin, xmax, ymin, ymax in km wrt box selected\n",
    "    track_dirn_restrict = 2,\n",
    "    track_stochastic_nu = 1.0,\n",
    "    turbine_mrkr_size = 10.,\n",
    "    updraft_threshold = 0.75,\n",
    "    orographic_model = 'improved',\n",
    "    slopeAspectMode = 'compute',\n",
    "    resolution = 50.,\n",
    "    resolution_terrain = 10.,\n",
    ")"
   ]
  },
  {
   "cell_type": "markdown",
   "id": "a27857fe",
   "metadata": {},
   "source": [
    "## Initialize SSRS objects for the 4 different boxes"
   ]
  },
  {
   "cell_type": "code",
   "execution_count": null,
   "id": "cc90440b-0eff-4012-be53-fe39952d9b33",
   "metadata": {},
   "outputs": [],
   "source": [
    "# Box1, improved model\n",
    "wy_box1_improved_dict =replace(\n",
    "    default_config, \n",
    "    run_name='wy_box1_improved',\n",
    "    southwest_lonlat = box1,\n",
    "    orographic_model = 'improved'\n",
    ")\n",
    "\n",
    "# Box1, original model\n",
    "wy_box1_original_dict =replace(\n",
    "    default_config, \n",
    "    run_name='wy_box1_original',\n",
    "    southwest_lonlat = box1,\n",
    "    orographic_model = 'original'\n",
    ")"
   ]
  },
  {
   "cell_type": "code",
   "execution_count": null,
   "id": "6b59693c-3a75-4ee4-851b-9a986c488544",
   "metadata": {},
   "outputs": [],
   "source": [
    "# Box2, improved model\n",
    "wy_box2_improved_dict =replace(\n",
    "    default_config, \n",
    "    run_name='wy_box2_improved',\n",
    "    southwest_lonlat = box2,\n",
    "    orographic_model = 'improved'\n",
    ")\n",
    "\n",
    "# Box2, original model\n",
    "wy_box2_original_dict =replace(\n",
    "    default_config, \n",
    "    run_name='wy_box2_original',\n",
    "    southwest_lonlat = box2,\n",
    "    orographic_model = 'original'\n",
    ")"
   ]
  },
  {
   "cell_type": "code",
   "execution_count": null,
   "id": "427f6b59-8073-4dcf-a11a-808dc58416df",
   "metadata": {},
   "outputs": [],
   "source": [
    "# Box3, improved model\n",
    "wy_box3_improved_dict =replace(\n",
    "    default_config, \n",
    "    run_name='wy_box3_improved',\n",
    "    southwest_lonlat = box3,\n",
    "    orographic_model = 'improved'\n",
    ")\n",
    "\n",
    "# Box3, original model\n",
    "wy_box3_original_dict =replace(\n",
    "    default_config, \n",
    "    run_name='wy_box3_original',\n",
    "    southwest_lonlat = box3,\n",
    "    orographic_model = 'original'\n",
    ")"
   ]
  },
  {
   "cell_type": "code",
   "execution_count": null,
   "id": "8e44d3d9-612e-475e-a99e-a8e0d8ca8057",
   "metadata": {},
   "outputs": [],
   "source": [
    "# Box4, improved model\n",
    "wy_box4_improved_dict =replace(\n",
    "    default_config, \n",
    "    run_name='wy_box4_improved',\n",
    "    southwest_lonlat = box4,\n",
    "    orographic_model = 'improved'\n",
    ")\n",
    "\n",
    "# Box4, original model\n",
    "wy_box4_original_dict =replace(\n",
    "    default_config, \n",
    "    run_name='wy_box4_original',\n",
    "    southwest_lonlat = box4,\n",
    "    orographic_model = 'original'\n",
    ")"
   ]
  },
  {
   "cell_type": "markdown",
   "id": "fff8e94d-f185-4b8f-aa1b-19a9d88dbdfc",
   "metadata": {},
   "source": [
    "## Simulate the tracks varying the entry point"
   ]
  },
  {
   "cell_type": "code",
   "execution_count": null,
   "id": "c1275179-6486-4794-a40f-f1a763cd04af",
   "metadata": {},
   "outputs": [],
   "source": [
    "def runNdirections(sim_object_dict, N=8):\n",
    "    \n",
    "    # Get dimentions from object\n",
    "    extentx = sim_object_dict.region_width_km[0]\n",
    "    extenty = sim_object_dict.region_width_km[0]\n",
    "    startboxsize = 1 # 1 km boxes\n",
    "\n",
    "    # Get starting location information\n",
    "    theta = np.deg2rad( np.linspace(0,360,N, endpoint=False) )  # 8 points = N, S, W, E, NW, NE, SW, SE\n",
    "\n",
    "    # Get track direction wrt to each box.\n",
    "    # First box is N (0), so track direction should be S (180), 3rd box is at E (90), so track direction should be W (270). Create this offset here\n",
    "    dirns = np.rad2deg(theta)+180\n",
    "\n",
    "    # create 1x1km starting boxes at the locations indicated by theta\n",
    "    x = (extentx/2 - startboxsize) * np.sin(theta)\n",
    "    y = (extenty/2 - startboxsize) * np.cos(theta)\n",
    "\n",
    "    start_regions = [(extentx/2 + ix - startboxsize/2, # xmin\n",
    "                      extentx/2 + ix + startboxsize/2, # xmax\n",
    "                      extenty/2 + iy - startboxsize/2, # ymin\n",
    "                      extenty/2 + iy + startboxsize/2) # ymax\n",
    "                     for ix,iy in zip(x,y)]\n",
    "    \n",
    "    \n",
    "    # Execute the 8 starting points and accumulate results\n",
    "    sim = []\n",
    "    for start_region, dirn in zip(start_regions, dirns):\n",
    "        print(f'\\n\\nRunning starting region box {start_region}, track direction {dirn}')\n",
    "        temp = replace(sim_object_dict, track_direction = dirn, track_start_region = start_region)\n",
    "        isim = Simulator(temp)\n",
    "        isim.simulate_tracks()\n",
    "        sim.append(isim)\n",
    "        \n",
    "\n",
    "    # Loop throught tracks accumulating and plotting individual tracks\n",
    "    pres_maps = []\n",
    "    for i in range(N):\n",
    "        fig, ax = sim[i].plot_simulated_tracks_altamont(show=False, in_alpha=0.1, plot_turbs=False)\n",
    "        fig2, ax2, pres_map = sim[i].plot_presence_map_altamont(show=True, radius=200., minval=0.01)\n",
    "        # Save figure with tracks and presence map for current direction\n",
    "        sim[i].save_fig(fig, os.path.join(sim[i].fig_dir, f'simulated_tracks_alpha01_dir{theta[i]}.png'))\n",
    "        sim[i].save_fig(fig2, os.path.join(sim[i].fig_dir, f'presence_map_radius200_dir{theta[i]}.png'))\n",
    "        # Accumulate\n",
    "        pres_maps.append(pres_map)\n",
    "\n",
    "\n",
    "    # Loop through again just to plot the combined track\n",
    "    for i in range(N):\n",
    "        if i==0: fig, ax = sim[i].plot_simulated_tracks_altamont(show=False, in_alpha=0.1, plot_turbs=False)\n",
    "        else:    _, _    = sim[i].plot_simulated_tracks_altamont(show=False, fig=fig, axs=ax, in_alpha=0.1, plot_turbs=False)\n",
    "    sim[i].save_fig(fig, os.path.join(sim[i].fig_dir, f'simulated_tracks_alpha01_all{N}dir.png'))\n",
    "\n",
    "\n",
    "    # Get mean presence map\n",
    "    #pres_maps = np.array(pres_maps)\n",
    "    summary_pres_map = np.mean(pres_maps,axis=0)\n",
    "    summary_pres_map /= np.amax(summary_pres_map)\n",
    "\n",
    "    # Save combined presence map\n",
    "    fig, ax = sim[0]._plot_presence_altamont(summary_pres_map, 0.1)\n",
    "    sim[0].save_fig(fig, os.path.join(sim[i].fig_dir, f'presence_map_radius200_all{N}dir.png'))\n"
   ]
  },
  {
   "cell_type": "code",
   "execution_count": null,
   "id": "0d4ee72c-bbff-44b6-84ab-396f5a1e5e58",
   "metadata": {},
   "outputs": [],
   "source": [
    "# Run with improved model\n",
    "runNdirections(wy_box1_improved_dict, N=8)\n",
    "runNdirections(wy_box2_improved_dict, N=8)\n",
    "runNdirections(wy_box3_improved_dict, N=8)\n",
    "runNdirections(wy_box4_improved_dict, N=8)"
   ]
  },
  {
   "cell_type": "code",
   "execution_count": null,
   "id": "d9afefb3-1fe9-4284-8c26-c485822475fc",
   "metadata": {},
   "outputs": [],
   "source": [
    "# Run with original model\n",
    "runNdirections(wy_box1_original_dict, N=8)\n",
    "runNdirections(wy_box2_original_dict, N=8)\n",
    "runNdirections(wy_box3_original_dict, N=8)\n",
    "runNdirections(wy_box4_original_dict, N=8)"
   ]
  },
  {
   "cell_type": "code",
   "execution_count": null,
   "id": "dea2d1bc-632c-4b4f-a7d0-bbfa045fe9de",
   "metadata": {},
   "outputs": [],
   "source": []
  }
 ],
 "metadata": {
  "kernelspec": {
   "display_name": "ssrs_env_local",
   "language": "python",
   "name": "ssrs_env_local"
  },
  "language_info": {
   "codemirror_mode": {
    "name": "ipython",
    "version": 3
   },
   "file_extension": ".py",
   "mimetype": "text/x-python",
   "name": "python",
   "nbconvert_exporter": "python",
   "pygments_lexer": "ipython3",
   "version": "3.10.5"
  }
 },
 "nbformat": 4,
 "nbformat_minor": 5
}
