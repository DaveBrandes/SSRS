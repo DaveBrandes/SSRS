{
 "cells": [
  {
   "cell_type": "markdown",
   "metadata": {},
   "source": [
    "### Stochastic Soaring Raptor Simulator (SSRS)\n",
    "https://github.com/NREL/SSRS\n",
    "- Easy to use tool for predicting conflict between likely golden eagle routes and operational/planned wind turbines\n",
    "- Simulates a large number of golden eagle tracks from a given location/region under given wind conditions\n",
    "- Applicable to any region in the continental US (Only uses publicly available data)\n",
    "- Captures uncertainty in atmospheric conditions, eagle decision-making, and starting/entry location"
   ]
  },
  {
   "cell_type": "code",
   "execution_count": null,
   "metadata": {},
   "outputs": [],
   "source": [
    "%load_ext autoreload\n",
    "%autoreload 2"
   ]
  },
  {
   "cell_type": "code",
   "execution_count": null,
   "metadata": {},
   "outputs": [],
   "source": [
    "import matplotlib.pyplot as plt\n",
    "from dataclasses import replace, asdict\n",
    "from ssrs import Terrain, Simulator, Config, WTK"
   ]
  },
  {
   "cell_type": "markdown",
   "metadata": {},
   "source": [
    "### Extracting terrain data from USGS's 3DEP dataset\n",
    "https://www.usgs.gov/3d-elevation-program"
   ]
  },
  {
   "cell_type": "code",
   "execution_count": null,
   "metadata": {},
   "outputs": [],
   "source": [
    "# snapshot mode in Wyoming on 17 June 2010 at 1 pm\n",
    "config_wy_uniform = Config(\n",
    "    # terrain parameters\n",
    "    run_name='appalachian',\n",
    "    southwest_lonlat=(-79.7, 39.0), \n",
    "    region_width_km=(60., 50.),\n",
    "    resolution=100.,\n",
    "    # simulation parameters\n",
    "    sim_mode='uniform',\n",
    "    uniform_winddirn=270.,\n",
    "    uniform_windspeed=10.,\n",
    "    track_direction='north',\n",
    "    track_count = 500,\n",
    "    track_start_region=(20, 21, 0, 0)\n",
    ")\n",
    "#print(config_wy_snapshot)\n",
    "sim = Simulator(config_wy_uniform)"
   ]
  },
  {
   "cell_type": "code",
   "execution_count": null,
   "metadata": {},
   "outputs": [],
   "source": [
    "sim.plot_terrain_elevation(show=True)\n",
    "sim.turbines.print_details()"
   ]
  },
  {
   "cell_type": "markdown",
   "metadata": {},
   "source": [
    "# Uniform mode"
   ]
  },
  {
   "cell_type": "markdown",
   "metadata": {},
   "source": [
    "###  Westerly wind, eagle entering from southern boundary"
   ]
  },
  {
   "cell_type": "code",
   "execution_count": null,
   "metadata": {},
   "outputs": [],
   "source": [
    "sim.plot_orographic_updrafts(show=True)"
   ]
  },
  {
   "cell_type": "code",
   "execution_count": null,
   "metadata": {},
   "outputs": [],
   "source": [
    "sim.simulate_tracks()\n",
    "sim.plot_simulated_tracks(show=True)\n",
    "sim.plot_presence_maps(show=True)"
   ]
  },
  {
   "cell_type": "code",
   "execution_count": null,
   "metadata": {},
   "outputs": [],
   "source": [
    "config_wy_uniform = replace(\n",
    "    config_wy_uniform,\n",
    "    track_start_region=(18, 19, 5, 5)\n",
    ")\n",
    "sim = Simulator(**asdict(config_wy_uniform))\n",
    "sim.simulate_tracks()\n",
    "#sim.plot_simulated_tracks(show=True)\n",
    "sim.plot_presence_maps(show=True)"
   ]
  },
  {
   "cell_type": "code",
   "execution_count": null,
   "metadata": {},
   "outputs": [],
   "source": [
    "config_wy_uniform = replace(\n",
    "    config_wy_uniform,\n",
    "    track_start_region=(22, 23, 10, 10)\n",
    ")\n",
    "sim = Simulator(**asdict(config_wy_uniform))\n",
    "sim.simulate_tracks()\n",
    "#sim.plot_simulated_tracks(show=True)\n",
    "sim.plot_presence_maps(show=True)"
   ]
  },
  {
   "cell_type": "markdown",
   "metadata": {},
   "source": [
    "### When we don't know the plausible entry points "
   ]
  },
  {
   "cell_type": "code",
   "execution_count": null,
   "metadata": {},
   "outputs": [],
   "source": [
    "config_wy_uniform = replace(\n",
    "    config_wy_uniform,\n",
    "    track_start_region=(5, 55, 0, 0)\n",
    ")\n",
    "sim = Simulator(**asdict(config_wy_uniform))\n",
    "sim.simulate_tracks()\n",
    "sim.plot_simulated_tracks(show=True)\n",
    "sim.plot_presence_maps(show=True)"
   ]
  },
  {
   "cell_type": "markdown",
   "metadata": {},
   "source": [
    "# Snapshot mode"
   ]
  },
  {
   "cell_type": "markdown",
   "metadata": {},
   "source": [
    "### Focusing on a specific time and then importing spatially varying wind conditions from NREL's WindToolKit data set"
   ]
  },
  {
   "cell_type": "code",
   "execution_count": null,
   "metadata": {},
   "outputs": [],
   "source": [
    "config_wy_snapshot = replace(\n",
    "    config_wy_uniform,\n",
    "    sim_mode='snapshot',\n",
    "    snapshot_datetime=(2014, 12, 1, 15),\n",
    "    track_start_region=(55, 58, 0, 0),\n",
    "    track_direction='northwest',\n",
    ")\n",
    "sim = Simulator(**asdict(config_wy_snapshot))"
   ]
  },
  {
   "cell_type": "code",
   "execution_count": null,
   "metadata": {},
   "outputs": [],
   "source": [
    "sim.plot_wtk_layers(show=True)"
   ]
  },
  {
   "cell_type": "code",
   "execution_count": null,
   "metadata": {},
   "outputs": [],
   "source": [
    "sim.simulate_tracks()\n",
    "sim.plot_simulated_tracks(show=True)\n",
    "sim.plot_presence_maps(show=True)"
   ]
  },
  {
   "cell_type": "markdown",
   "metadata": {},
   "source": [
    "# Seasonal mode\n",
    "- Focuses on seasonal behavior by considering range of wind conditions experienced in that season\n",
    "- provides a summarized presence map for the season."
   ]
  },
  {
   "cell_type": "markdown",
   "metadata": {},
   "source": [
    "# Limitations of SSRS\n",
    "- Need 3D presence to compute risk\n",
    "- Does not take into account other factors such as type of activity, prey distribution, thermal updrafts"
   ]
  },
  {
   "cell_type": "code",
   "execution_count": null,
   "metadata": {},
   "outputs": [],
   "source": []
  }
 ],
 "metadata": {
  "kernelspec": {
   "display_name": "test_this",
   "language": "python",
   "name": "test_this"
  },
  "language_info": {
   "codemirror_mode": {
    "name": "ipython",
    "version": 3
   },
   "file_extension": ".py",
   "mimetype": "text/x-python",
   "name": "python",
   "nbconvert_exporter": "python",
   "pygments_lexer": "ipython3",
   "version": "3.8.12"
  }
 },
 "nbformat": 4,
 "nbformat_minor": 4
}
